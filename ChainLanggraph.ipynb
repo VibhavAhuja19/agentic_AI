{
 "cells": [
  {
   "cell_type": "code",
   "execution_count": 1,
   "id": "cc1ca836",
   "metadata": {},
   "outputs": [],
   "source": [
    "from dotenv import load_dotenv\n",
    "import os\n",
    "load_dotenv()\n",
    "\n",
    "os.environ['GROQ_API_KEY'] = os.getenv('GROQ_API_KEY' )\n"
   ]
  },
  {
   "cell_type": "code",
   "execution_count": null,
   "id": "08d615bd",
   "metadata": {},
   "outputs": [
    {
     "name": "stdout",
     "output_type": "stream",
     "text": [
      "==================================\u001b[1m Ai Message \u001b[0m==================================\n",
      "Name: LLMModel\n",
      "\n",
      "Please tell me how can I help\n",
      "================================\u001b[1m Human Message \u001b[0m=================================\n",
      "Name: vibhav\n",
      "\n",
      "I want to learn coding\n",
      "==================================\u001b[1m Ai Message \u001b[0m==================================\n",
      "Name: LLMModel\n",
      "\n",
      "Which programming language you want to learn\n",
      "================================\u001b[1m Human Message \u001b[0m=================================\n",
      "Name: vibhav\n",
      "\n",
      "I want to learn python programming language\n"
     ]
    }
   ],
   "source": [
    "from langchain_core.messages import AIMessage, HumanMessage\n",
    "from pprint import pprint\n",
    "import pprint\n",
    "messages=[AIMessage(content=f\"Please tell me how can I help\",name=\"LLMModel\")]\n",
    "messages.append(HumanMessage(content=f\"I want to learn coding\",name=\"vibhav\"))\n",
    "messages.append(AIMessage(content=f\"Which programming language you want to learn\",name=\"LLMModel\"))\n",
    "messages.append(HumanMessage(content=f\"I want to learn python programming language\",name=\"vibhav\"))\n",
    "\n",
    "for message in messages:\n",
    "    message.pretty_print()\n"
   ]
  },
  {
   "cell_type": "code",
   "execution_count": 3,
   "id": "57a41d7a",
   "metadata": {},
   "outputs": [],
   "source": [
    "from langchain_groq import ChatGroq\n",
    "llm = ChatGroq(model=\"qwen-qwq-32b\")\n",
    "result = llm.invoke(messages)"
   ]
  },
  {
   "cell_type": "code",
   "execution_count": 4,
   "id": "6e59aa9c",
   "metadata": {},
   "outputs": [
    {
     "data": {
      "text/plain": [
       "{'token_usage': {'completion_tokens': 1896,\n",
       "  'prompt_tokens': 56,\n",
       "  'total_tokens': 1952,\n",
       "  'completion_time': 4.382480896,\n",
       "  'prompt_time': 0.004850075,\n",
       "  'queue_time': 0.264910314,\n",
       "  'total_time': 4.387330971},\n",
       " 'model_name': 'qwen-qwq-32b',\n",
       " 'system_fingerprint': 'fp_a91d9c2cfb',\n",
       " 'finish_reason': 'stop',\n",
       " 'logprobs': None}"
      ]
     },
     "execution_count": 4,
     "metadata": {},
     "output_type": "execute_result"
    }
   ],
   "source": [
    "result.response_metadata"
   ]
  },
  {
   "cell_type": "code",
   "execution_count": 5,
   "id": "2221c628",
   "metadata": {},
   "outputs": [
    {
     "data": {
      "text/plain": [
       "AIMessage(content='\\n<think>\\nOkay, the user wants to learn Python. Let me start by breaking down the best way to approach this. First, I should outline the steps a beginner would take. I remember when I was starting out, having a clear path helped me stay focused.\\n\\nThey might not know where to start, so I should suggest setting clear goals. Maybe they have a specific project in mind, like web development or data analysis. That would help them stay motivated. But if they\\'re just starting, maybe they need some general guidance.\\n\\nNext, they\\'ll need a development environment. I should mention Python\\'s official website for installation. Also, IDEs like PyCharm or VS Code are common. Jupyter Notebooks could be useful too, especially for data science.\\n\\nThen, the learning resources. Free platforms like Codecademy and freeCodeCamp are good entry points. Books like \"Automate the Boring Stuff\" are practical. Online courses on Coursera and Udemy might be options too. I should list a few of each so they can choose what fits their learning style.\\n\\nHands-on practice is crucial. I should encourage writing small programs first, then move to projects. Maybe suggest some project ideas like a calculator or a to-do list. Contributing to open source could be a step later on.\\n\\nCommunity and collaboration are important for support. Mentioning forums like Stack Overflow, Reddit, and local meetups makes sense. Also, using GitHub to track their progress and collaborate.\\n\\nConsistency and persistence are key. Reminding them to practice regularly and not get discouraged by errors. Maybe they can set a study schedule.\\n\\nAdvanced topics should be mentioned so they know where to go next, like web frameworks (Django, Flask), data science libraries (Pandas, NumPy), or automation. Maybe touch on algorithms and data structures for deeper understanding.\\n\\nI should also ask if they need more details on any specific area. That way, they can pick and choose based on their interests. Let me structure all this into clear sections so it\\'s easy to follow. Let me make sure the tone is encouraging and supportive, since they\\'re just starting out.\\n</think>\\n\\nGreat choice! Python is an excellent language for beginners due to its simplicity, readability, and versatility. Here’s a structured plan to help you learn Python effectively:\\n\\n---\\n\\n### **1. Set Clear Goals**\\n   - **Why do you want to learn Python?**  \\n     - Web development? (Frameworks like Django, Flask)  \\n     - Data science? (Pandas, NumPy, Matplotlib)  \\n     - Automation? (Scripting tasks)  \\n     - Game development? (Pygame)  \\n     - AI/ML? (TensorFlow, PyTorch)  \\n   - Knowing your goals will help you focus on relevant resources.\\n\\n---\\n\\n### **2. Install Python**\\n   - Download and install Python from the [official website](https://www.python.org/downloads/).  \\n   - Choose the latest version (e.g., Python 3.11+).  \\n   - For beginners, use an **IDE** (Integrated Development Environment) like:  \\n     - **PyCharm Community Edition** (Free, powerful)  \\n     - **VS Code** (Free, lightweight, with the Python extension)  \\n     - **Jupyter Notebook** (Great for data science and experimentation).  \\n\\n---\\n\\n### **3. Learn the Basics**\\nStart with core concepts using free online resources:  \\n   - **Free Interactive Tutorials**:  \\n     - [Codecademy’s Python Course](https://www.codecademy.com/learn/learn-python-3) (Interactive, beginner-friendly).  \\n     - [freeCodeCamp’s Python Basics](https://www.freecodecamp.org/learn/scientific-computing-with-python/) (Free, project-oriented).  \\n     - [Python.org’s Official Tutorial](https://docs.python.org/3/tutorial/) (Comprehensive but more technical).  \\n   - **Key Concepts to Learn**:  \\n     - Variables, data types (strings, integers, lists, dictionaries), and operators.  \\n     - Control flow (`if`, `for`, `while` loops).  \\n     - Functions and modules.  \\n     - File I/O and error handling.  \\n     - Basics of Object-Oriented Programming (classes and objects).  \\n\\n---\\n\\n### **4. Practice Regularly**\\n   - Write small programs to apply what you learn:  \\n     - Example projects for beginners:  \\n       - A calculator.  \\n       - A to-do list app.  \\n       - A password generator.  \\n       - A simple game (e.g., \"Guess the Number\").  \\n   - Solve coding challenges:  \\n     - [LeetCode](https://leetcode.com/) (Start with easy challenges).  \\n     - [HackerRank](https://www.hackerrank.com/domains/python) (Python-specific exercises).  \\n\\n---\\n\\n### **5. Dive Deeper into Projects**\\nBuild real projects to solidify your skills:  \\n   - **Beginner Projects**:  \\n     - Weather app (API integration).  \\n     - CSV data analysis (using Pandas).  \\n     - A basic web scraper (using `requests` and `BeautifulSoup`).  \\n   - **Intermediate Projects**:  \\n     - A blog or website using Django/Flask.  \\n     - Data visualization with Matplotlib/Seaborn.  \\n     - A chatbot using AI libraries like `ChatterBot`.  \\n   - **Advanced Projects**:  \\n     - Machine learning models (using Scikit-learn or TensorFlow).  \\n     - RESTful APIs.  \\n     - Automation scripts for Excel or Excel files.  \\n\\n---\\n\\n### **6. Learn Key Libraries and Frameworks**\\nDepending on your goals, focus on these tools:  \\n   - **General**:  \\n     - `requests` (HTTP requests).  \\n     - `datetime` (date/time manipulation).  \\n   - **Data Science**:  \\n     - Pandas (data manipulation).  \\n     - NumPy (mathematical computations).  \\n     - Matplotlib/Seaborn (data visualization).  \\n   - **Web Development**:  \\n     - Django (full-stack web framework).  \\n     - Flask (lightweight web framework).  \\n   - **AI/ML**:  \\n     - Scikit-learn (machine learning).  \\n     - TensorFlow/PyTorch (deep learning).  \\n\\n---\\n\\n### **7. Resources for Learning**\\n   - **Books**:  \\n     - *Automate the Boring Stuff with Python* (Free online, practical examples).  \\n     - *Python Crash Course* (Hands-on projects).)  \\n   - **Videos/Lectures**:  \\n     - [Corey Schafer’s Python Tutorials](https://www.youtube.com/user/schafer5) (Free, clear explanations).)  \\n     - [Python for Everybody (Coursera)](https://www.coursera.org/specializations/python) (Certification available).)  \\n   - **Documentations**:  \\n     - [Python Official Docs](https://docs.python.org/3/) (Ultimate reference guide).)  \\n\\n---\\n\\n### **8. Join the Community**\\n   - **Forums**: Ask questions on [Stack Overflow](https://stackoverflow.com/), [Reddit’s r/learnpython](https://www.reddit.com/r/learnpython/), or [Python Discord servers](https://python-discord.com/).  \\n   - **Open Source Contribution**:  \\n     - Start with small fixes on platforms like GitHub.  \\n     - Use [First Timers Only](https://www.firsttimersonly.com/) to find beginner-friendly projects.  \\n   - **Blogs/Communities**:  \\n     - Follow blogs like [Real Python](https://realpython.com/) or [Towards Data Science](https://towardsdatascience.com/).  \\n\\n---\\n\\n### **9. Debugging and Troubleshooting**\\n   - Learn to read error messages.  \\n   - Use `print()` statements or debuggers (e.g., VS Code’s debugger).)  \\n   - Master tools like `pdb` (Python’s built-in debugger).)  \\n\\n---\\n\\n### **10. Build a Portfolio**\\n   - Share your projects on GitHub (create a GitHub account if you don’t have one).)  \\n   - Document your journey in a blog or a portfolio website.  \\n\\n---\\n\\n### **11. Stay Updated**\\n   - Follow Python news on [Python.org](https://www.python.org/).)  \\n   - Attend webinars or local meetups.  \\n\\n---\\n\\n### **Sample Learning Path for Beginners**\\n1. **Week 1–2**: Basics (variables, loops, functions).)  \\n2. **Week 3–4**: Practice small projects (e.g., a calculator, to-do list.)  \\n3. **Week 5–6**: Learn libraries (e.g., Pandas for data, Flask for web apps.)  \\n4. **Week 7–8**: Build a medium-sized project (e.g., a web app, data analysis tool.)  \\n\\n---\\n\\n### **Need Help?**\\nLet me know if you’d like:  \\n- Specific project ideas.  \\n- Recommendations for courses.  \\n- Guidance on setting up your environment.  \\n- Debugging help for your code.  \\n\\nWhat’s your first step? 😊', additional_kwargs={}, response_metadata={'token_usage': {'completion_tokens': 1896, 'prompt_tokens': 56, 'total_tokens': 1952, 'completion_time': 4.382480896, 'prompt_time': 0.004850075, 'queue_time': 0.264910314, 'total_time': 4.387330971}, 'model_name': 'qwen-qwq-32b', 'system_fingerprint': 'fp_a91d9c2cfb', 'finish_reason': 'stop', 'logprobs': None}, id='run--a113c239-61f6-475e-9910-c88b7a85ed78-0', usage_metadata={'input_tokens': 56, 'output_tokens': 1896, 'total_tokens': 1952})"
      ]
     },
     "execution_count": 5,
     "metadata": {},
     "output_type": "execute_result"
    }
   ],
   "source": [
    "result"
   ]
  },
  {
   "cell_type": "code",
   "execution_count": 6,
   "id": "7e9f3d7c",
   "metadata": {},
   "outputs": [],
   "source": [
    "def add(a:int,b:int)-> int:\n",
    "    \"\"\" Add a and b\n",
    "    Args:\n",
    "        a (int): first int\n",
    "        b (int): second int\n",
    "\n",
    "    Returns:\n",
    "        int\n",
    "    \"\"\"\n",
    "    return a+b"
   ]
  },
  {
   "cell_type": "code",
   "execution_count": 7,
   "id": "ac3f3db2",
   "metadata": {},
   "outputs": [
    {
     "data": {
      "text/plain": [
       "ChatGroq(client=<groq.resources.chat.completions.Completions object at 0x0000023741058E90>, async_client=<groq.resources.chat.completions.AsyncCompletions object at 0x000002374105B140>, model_name='qwen-qwq-32b', model_kwargs={}, groq_api_key=SecretStr('**********'))"
      ]
     },
     "execution_count": 7,
     "metadata": {},
     "output_type": "execute_result"
    }
   ],
   "source": [
    "llm"
   ]
  },
  {
   "cell_type": "code",
   "execution_count": 8,
   "id": "37060ccd",
   "metadata": {},
   "outputs": [],
   "source": [
    "llm_with_tools = llm.bind_tools([add])\n",
    "tool_call = llm_with_tools.invoke([HumanMessage(content =f\"what is 2 plus 2\", name='vibhav')])"
   ]
  },
  {
   "cell_type": "code",
   "execution_count": 9,
   "id": "7fe3b4d7",
   "metadata": {},
   "outputs": [
    {
     "name": "stdout",
     "output_type": "stream",
     "text": [
      "[{'name': 'add', 'args': {'a': 2, 'b': 2}, 'id': 'awppfmhj2', 'type': 'tool_call'}]\n"
     ]
    }
   ],
   "source": [
    "tool_call\n",
    "print(tool_call.tool_calls)"
   ]
  },
  {
   "cell_type": "code",
   "execution_count": 10,
   "id": "f0a7f796",
   "metadata": {},
   "outputs": [],
   "source": [
    "from typing_extensions import TypedDict\n",
    "from langchain_core.messages import AnyMessage\n",
    "\n",
    "# class State(TypedDict):\n",
    "#     message:list[AnyMessage]"
   ]
  },
  {
   "cell_type": "code",
   "execution_count": 11,
   "id": "c162d158",
   "metadata": {},
   "outputs": [],
   "source": [
    "from langgraph.graph.message import add_messages\n",
    "from typing import Annotated\n",
    "\n",
    "class State(TypedDict):\n",
    "    messages: Annotated[list[AnyMessage],add_messages]"
   ]
  },
  {
   "cell_type": "code",
   "execution_count": 12,
   "id": "14b523fb",
   "metadata": {},
   "outputs": [
    {
     "data": {
      "text/plain": [
       "[AIMessage(content='Please tell me how can I help', additional_kwargs={}, response_metadata={}, name='LLMModel'),\n",
       " HumanMessage(content='I want to learn coding', additional_kwargs={}, response_metadata={}, name='vibhav')]"
      ]
     },
     "execution_count": 12,
     "metadata": {},
     "output_type": "execute_result"
    }
   ],
   "source": [
    "initial_messages=[AIMessage(content=f\"Please tell me how can I help\",name=\"LLMModel\")]\n",
    "initial_messages.append(HumanMessage(content=f\"I want to learn coding\",name=\"vibhav\"))\n",
    "initial_messages"
   ]
  },
  {
   "cell_type": "code",
   "execution_count": 13,
   "id": "8edb34db",
   "metadata": {},
   "outputs": [
    {
     "data": {
      "text/plain": [
       "AIMessage(content='Which programming language you want to learn', additional_kwargs={}, response_metadata={}, name='LLMModel')"
      ]
     },
     "execution_count": 13,
     "metadata": {},
     "output_type": "execute_result"
    }
   ],
   "source": [
    "ai_message=AIMessage(content=f\"Which programming language you want to learn\",name=\"LLMModel\")\n",
    "ai_message"
   ]
  },
  {
   "cell_type": "code",
   "execution_count": 14,
   "id": "ff90c4ce",
   "metadata": {},
   "outputs": [
    {
     "data": {
      "text/plain": [
       "[AIMessage(content='Please tell me how can I help', additional_kwargs={}, response_metadata={}, name='LLMModel', id='27848c19-ac65-49bf-92d3-ebb776d4905d'),\n",
       " HumanMessage(content='I want to learn coding', additional_kwargs={}, response_metadata={}, name='vibhav', id='af131d5d-2f55-4fd5-a95a-2f22e1bd1b0e'),\n",
       " AIMessage(content='Which programming language you want to learn', additional_kwargs={}, response_metadata={}, name='LLMModel', id='57db2991-c2fe-44ee-9fd5-882852a9d55c')]"
      ]
     },
     "execution_count": 14,
     "metadata": {},
     "output_type": "execute_result"
    }
   ],
   "source": [
    "add_messages(initial_messages, ai_message)"
   ]
  },
  {
   "cell_type": "code",
   "execution_count": 15,
   "id": "4d900e85",
   "metadata": {},
   "outputs": [],
   "source": [
    "def llm_tool(state:State):\n",
    "    return {\"messages\":[llm_with_tools.invoke(state[\"messages\"])]}"
   ]
  },
  {
   "cell_type": "code",
   "execution_count": 16,
   "id": "84bc68cc",
   "metadata": {},
   "outputs": [
    {
     "data": {
      "image/png": "[encoded data removed]",
      "text/plain": [
       "<IPython.core.display.Image object>"
      ]
     },
     "metadata": {},
     "output_type": "display_data"
    }
   ],
   "source": [
    "from IPython.display import Image, display\n",
    "from langgraph.graph import StateGraph, START, END\n",
    "builder=StateGraph(State)\n",
    "\n",
    "builder.add_node(\"llm_tool\",llm_tool)\n",
    "\n",
    "builder.add_edge(START,\"llm_tool\")\n",
    "builder.add_edge(\"llm_tool\",END)\n",
    "\n",
    "graph=builder.compile()\n",
    "\n",
    "display(Image(graph.get_graph().draw_mermaid_png()))"
   ]
  },
  {
   "cell_type": "code",
   "execution_count": null,
   "id": "24255586",
   "metadata": {},
   "outputs": [
    {
     "name": "stdout",
     "output_type": "stream",
     "text": [
      "================================\u001b[1m Human Message \u001b[0m=================================\n",
      "\n",
      "What is 2 plus 2\n",
      "==================================\u001b[1m Ai Message \u001b[0m==================================\n",
      "Tool Calls:\n",
      "  add (k6bc6qhzk)\n",
      " Call ID: k6bc6qhzk\n",
      "  Args:\n",
      "    a: 2\n",
      "    b: 2\n"
     ]
    }
   ],
   "source": [
    "messages=graph.invoke({\"messages\":\"What is 2 plus 2\"})\n",
    "\n",
    "for message in messages[\"messages\"]:\n",
    "    message.pretty_print()"
   ]
  },
  {
   "cell_type": "code",
   "execution_count": 18,
   "id": "c387de69",
   "metadata": {},
   "outputs": [],
   "source": [
    "tools = [add]"
   ]
  },
  {
   "cell_type": "code",
   "execution_count": 19,
   "id": "098ddf12",
   "metadata": {},
   "outputs": [],
   "source": [
    "from langgraph.prebuilt import ToolNode\n",
    "from langgraph.prebuilt import tools_condition\n",
    "\n",
    "\n",
    "builder=StateGraph(State)\n",
    "\n",
    "## Add nodes\n",
    "\n",
    "builder.add_node(\"llm_tool\",llm_tool)\n",
    "builder.add_node(\"tools\",ToolNode(tools))\n",
    "\n",
    "## Add Edge\n",
    "builder.add_edge(START,\"llm_tool\")\n",
    "builder.add_conditional_edges(\"llm_tool\",tools_condition)\n",
    "builder.add_edge(\"tools\",END)\n",
    "\n",
    "\n",
    "graph_builder = builder.compile()\n",
    "\n"
   ]
  },
  {
   "cell_type": "code",
   "execution_count": 20,
   "id": "6babc82a",
   "metadata": {},
   "outputs": [
    {
     "data": {
      "image/png": "[encoded data removed]",
      "text/plain": [
       "<IPython.core.display.Image object>"
      ]
     },
     "metadata": {},
     "output_type": "display_data"
    }
   ],
   "source": [
    "display(Image(graph_builder.get_graph().draw_mermaid_png()))"
   ]
  },
  {
   "cell_type": "code",
   "execution_count": 21,
   "id": "f0f89f19",
   "metadata": {},
   "outputs": [
    {
     "name": "stdout",
     "output_type": "stream",
     "text": [
      "================================\u001b[1m Human Message \u001b[0m=================================\n",
      "\n",
      "What is 2 plus 2\n",
      "==================================\u001b[1m Ai Message \u001b[0m==================================\n",
      "Tool Calls:\n",
      "  add (4vtrzsswt)\n",
      " Call ID: 4vtrzsswt\n",
      "  Args:\n",
      "    a: 2\n",
      "    b: 2\n",
      "=================================\u001b[1m Tool Message \u001b[0m=================================\n",
      "Name: add\n",
      "\n",
      "4\n"
     ]
    }
   ],
   "source": [
    "## invocation\n",
    "\n",
    "messages=graph_builder.invoke({\"messages\":\"What is 2 plus 2\"})\n",
    "\n",
    "for message in messages[\"messages\"]:\n",
    "    message.pretty_print()"
   ]
  },
  {
   "cell_type": "code",
   "execution_count": 22,
   "id": "2ad034d3",
   "metadata": {},
   "outputs": [
    {
     "name": "stdout",
     "output_type": "stream",
     "text": [
      "================================\u001b[1m Human Message \u001b[0m=================================\n",
      "\n",
      "What Machine Learning\n",
      "==================================\u001b[1m Ai Message \u001b[0m==================================\n",
      "\n",
      "Machine Learning (ML) is a subset of Artificial Intelligence (AI) that focuses on developing algorithms and statistical models enabling computers to improve their performance at specific tasks through experience. Instead of being explicitly programmed, ML systems learn patterns from data and make predictions or decisions.\n",
      "\n",
      "### Key Concepts:\n",
      "1. **Supervised Learning**: Uses labeled data to train models (e.g., predicting house prices based on historical data).\n",
      "2. **Unsupervised Learning**: Finds hidden patterns in unlabeled data (e.g., customer segmentation).\n",
      "3. **Reinforcement Learning**: Learns by trial-and-error via rewards/penalties in an environment (e.g., game-playing AI).\n",
      "\n",
      "### Common Applications:\n",
      "- Image/speech recognition\n",
      "- Recommendation systems (e.g., Netflix, Spotify)\n",
      "- Spam detection\n",
      "- Self-driving cars\n",
      "\n",
      "No tool was needed for this explanation, as it required conceptual knowledge rather than computation. Let me know if you'd like code examples or further details!\n"
     ]
    }
   ],
   "source": [
    "messages=graph_builder.invoke({\"messages\":\"What Machine Learning\"})\n",
    "\n",
    "for message in messages[\"messages\"]:\n",
    "    message.pretty_print()"
   ]
  },
  {
   "cell_type": "code",
   "execution_count": null,
   "id": "8aa238c2",
   "metadata": {},
   "outputs": [],
   "source": []
  }
 ],
 "metadata": {
  "kernelspec": {
   "display_name": "env",
   "language": "python",
   "name": "python3"
  },
  "language_info": {
   "codemirror_mode": {
    "name": "ipython",
    "version": 3
   },
   "file_extension": ".py",
   "mimetype": "text/x-python",
   "name": "python",
   "nbconvert_exporter": "python",
   "pygments_lexer": "ipython3",
   "version": "3.12.4"
  }
 },
 "nbformat": 4,
 "nbformat_minor": 5
}
