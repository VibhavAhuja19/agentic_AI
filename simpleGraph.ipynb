{
 "cells": [
  {
   "cell_type": "code",
   "execution_count": 1,
   "id": "a293732b",
   "metadata": {},
   "outputs": [],
   "source": [
    "from typing_extensions import TypedDict\n",
    "class State(TypedDict):\n",
    "    graph_info: str"
   ]
  },
  {
   "cell_type": "code",
   "execution_count": 33,
   "id": "0502c944",
   "metadata": {},
   "outputs": [],
   "source": [
    "def start_play(state: State):\n",
    "    print(\"Starting node  play...\")\n",
    "    return{'graph_info' : state['graph_info']+ \"i am planning to play \"}\n",
    "\n",
    "def circket(state:State):\n",
    "    print(\"Starting circket play...\")\n",
    "    return {'graph_info': state['graph_info'] + \"circket\"}\n",
    "\n",
    "def badminton(state:State):\n",
    "    print(\"Starting badminton play...\")\n",
    "    return {'graph_info': state['graph_info'] + \"badminton\"}\n",
    "\n",
    "def football(state:State):\n",
    "    print(\"Starting football play...\")\n",
    "    return {'graph_info': state['graph_info'] + \"football\"}"
   ]
  },
  {
   "cell_type": "code",
   "execution_count": 34,
   "id": "2cbaf772",
   "metadata": {},
   "outputs": [],
   "source": [
    "import random\n",
    "from typing import Literal\n",
    "\n",
    "# Assuming State is a dict-like object\n",
    "def random_play(state: dict) -> Literal['circket', 'badminton', 'football']:\n",
    "    graph_info = state['graph_info']  # Currently unused\n",
    "\n",
    "    rand_val = random.random()\n",
    "    \n",
    "    if rand_val > 0.5:\n",
    "        return \"circket\"\n",
    "    elif rand_val == 0.5:\n",
    "        return \"football\"\n",
    "    else:\n",
    "        return \"badminton\"\n"
   ]
  },
  {
   "cell_type": "code",
   "execution_count": 35,
   "id": "fb657d8d",
   "metadata": {},
   "outputs": [
    {
     "data": {
      "image/png": "[encoded data removed]",
      "text/plain": [
       "<IPython.core.display.Image object>"
      ]
     },
     "metadata": {},
     "output_type": "display_data"
    }
   ],
   "source": [
    "from IPython.display import display,Image\n",
    "from langgraph.graph import StateGraph,START, END\n",
    "\n",
    "graph = StateGraph(State)\n",
    "\n",
    "graph.add_node('start_play', start_play)\n",
    "graph.add_node('circket', circket)\n",
    "graph.add_node('badminton', badminton)\n",
    "graph.add_node('football', football)\n",
    "\n",
    "graph.add_edge(START, 'start_play')\n",
    "graph.add_conditional_edges('start_play',random_play)\n",
    "graph.add_edge('circket', END)  # Fixed node name\n",
    "graph.add_edge('badminton', END)\n",
    "graph.add_edge('football', END)\n",
    "\n",
    "graph_builder = graph.compile()\n",
    "display(Image(graph_builder.get_graph().draw_mermaid_png()))"
   ]
  },
  {
   "cell_type": "code",
   "execution_count": 41,
   "id": "38fdb6b8",
   "metadata": {},
   "outputs": [
    {
     "name": "stdout",
     "output_type": "stream",
     "text": [
      "Starting node  play...\n",
      "Starting circket play...\n"
     ]
    },
    {
     "data": {
      "text/plain": [
       "{'graph_info': 'Hi , My name is vibhav i am planning to play circket'}"
      ]
     },
     "execution_count": 41,
     "metadata": {},
     "output_type": "execute_result"
    }
   ],
   "source": [
    "graph_builder.invoke({'graph_info': 'Hi , My name is vibhav '})"
   ]
  },
  {
   "cell_type": "code",
   "execution_count": null,
   "id": "21d946b2",
   "metadata": {},
   "outputs": [],
   "source": []
  },
  {
   "cell_type": "code",
   "execution_count": null,
   "id": "9c5d770f",
   "metadata": {},
   "outputs": [],
   "source": []
  },
  {
   "cell_type": "code",
   "execution_count": null,
   "id": "e7c7ac65",
   "metadata": {},
   "outputs": [],
   "source": []
  }
 ],
 "metadata": {
  "kernelspec": {
   "display_name": "env",
   "language": "python",
   "name": "python3"
  },
  "language_info": {
   "codemirror_mode": {
    "name": "ipython",
    "version": 3
   },
   "file_extension": ".py",
   "mimetype": "text/x-python",
   "name": "python",
   "nbconvert_exporter": "python",
   "pygments_lexer": "ipython3",
   "version": "3.12.4"
  }
 },
 "nbformat": 4,
 "nbformat_minor": 5
}
