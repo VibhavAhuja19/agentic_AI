{
 "cells": [
  {
   "cell_type": "code",
   "execution_count": 1,
   "id": "b6b91dad",
   "metadata": {},
   "outputs": [],
   "source": [
    "from langchain_community.tools import ArxivQueryRun,WikipediaQueryRun\n",
    "from langchain_community.utilities import WikipediaAPIWrapper,ArxivAPIWrapper"
   ]
  },
  {
   "cell_type": "code",
   "execution_count": 2,
   "id": "f7591fdd",
   "metadata": {},
   "outputs": [
    {
     "name": "stdout",
     "output_type": "stream",
     "text": [
      "arxiv\n"
     ]
    }
   ],
   "source": [
    "api_wrapper_arxiv=ArxivAPIWrapper(top_k_results=2,doc_content_chars_max=500)\n",
    "arxiv=ArxivQueryRun(api_wrapper=api_wrapper_arxiv)\n",
    "print(arxiv.name)"
   ]
  },
  {
   "cell_type": "code",
   "execution_count": 3,
   "id": "ad2bf144",
   "metadata": {},
   "outputs": [
    {
     "data": {
      "text/plain": [
       "\"Published: 2024-07-22\\nTitle: Attention Is All You Need But You Don't Need All Of It For Inference of Large Language Models\\nAuthors: Georgy Tyukin, Gbetondji J-S Dovonon, Jean Kaddour, Pasquale Minervini\\nSummary: The inference demand for LLMs has skyrocketed in recent months, and serving\\nmodels with low latencies remains challenging due to the quadratic input length\\ncomplexity of the attention layers. In this work, we investigate the effect of\\ndropping MLP and attention layers at inference time o\""
      ]
     },
     "execution_count": 3,
     "metadata": {},
     "output_type": "execute_result"
    }
   ],
   "source": [
    "arxiv.invoke(\"Attention is all you need\")"
   ]
  },
  {
   "cell_type": "code",
   "execution_count": 4,
   "id": "678c1fb2",
   "metadata": {},
   "outputs": [
    {
     "data": {
      "text/plain": [
       "'wikipedia'"
      ]
     },
     "execution_count": 4,
     "metadata": {},
     "output_type": "execute_result"
    }
   ],
   "source": [
    "api_wrapper_wiki=WikipediaAPIWrapper(top_k_results=1,doc_content_chars_max=500)\n",
    "wiki=WikipediaQueryRun(api_wrapper=api_wrapper_wiki)\n",
    "wiki.name"
   ]
  },
  {
   "cell_type": "code",
   "execution_count": 5,
   "id": "0b07fbd1",
   "metadata": {},
   "outputs": [
    {
     "data": {
      "text/plain": [
       "'Page: Machine learning\\nSummary: Machine learning (ML) is a field of study in artificial intelligence concerned with the development and study of statistical algorithms that can learn from data and generalise to unseen data, and thus perform tasks without explicit instructions. Within a subdiscipline in machine learning, advances in the field of deep learning have allowed neural networks, a class of statistical algorithms, to surpass many previous machine learning approaches in performance.\\nML fi'"
      ]
     },
     "execution_count": 5,
     "metadata": {},
     "output_type": "execute_result"
    }
   ],
   "source": [
    "wiki.invoke(\"What is machine learning\")"
   ]
  },
  {
   "cell_type": "code",
   "execution_count": 6,
   "id": "38669e3c",
   "metadata": {},
   "outputs": [],
   "source": [
    "from dotenv import load_dotenv\n",
    "load_dotenv()\n",
    "\n",
    "import os\n",
    "\n",
    "os.environ[\"TAVILY_API_KEY\"]=os.getenv(\"TAVILY_API_KEY\")\n",
    "os.environ[\"GROQ_API_KEY\"]=os.getenv(\"GROQ_API_KEY\")\n",
    "os.environ[\"LANGCHAIN_API_KEY\"]=os.getenv(\"LANGCHAIN_API_KEY\")\n",
    "os.environ[\"LANGCHAIN_TRACING_V2\"] = \"true\"\n",
    "os.environ[\"LANGCHAIN_PROJECT\"]=\"ReAct-agent\"\n"
   ]
  },
  {
   "cell_type": "code",
   "execution_count": 28,
   "id": "e5019776",
   "metadata": {},
   "outputs": [],
   "source": [
    "### Custom Functions\n",
    "def multiply(a: int, b: int) -> int:\n",
    "    \"\"\"Multiply a and b.\n",
    "\n",
    "    Args:\n",
    "        a: first int\n",
    "        b: second int\n",
    "    \"\"\"\n",
    "    return a * b\n",
    "\n",
    "# This will be a tool\n",
    "def add(a: int, b: int) -> int:\n",
    "    \"\"\"Adds a and b.\n",
    "\n",
    "    Args:\n",
    "        a: first int\n",
    "        b: second int\n",
    "    \"\"\"\n",
    "    return a + b\n",
    "\n",
    "def divide(a: int, b: int) -> float:\n",
    "    \"\"\"Divide a and b.\n",
    "\n",
    "    Args:\n",
    "        a: first int\n",
    "        b: second int\n",
    "    \"\"\"\n",
    "    return a / b\n",
    "\n",
    "tools=[arxiv,wiki,add,multiply,divide]\n",
    "\n"
   ]
  },
  {
   "cell_type": "code",
   "execution_count": 29,
   "id": "84aeef07",
   "metadata": {},
   "outputs": [],
   "source": [
    "from langchain_community.tools.tavily_search import TavilySearchResults\n",
    "tavily = TavilySearchResults()"
   ]
  },
  {
   "cell_type": "code",
   "execution_count": 30,
   "id": "f93d6d12",
   "metadata": {},
   "outputs": [
    {
     "data": {
      "text/plain": [
       "[{'title': 'Latest AI Breakthroughs and News: June-July 2025 - Crescendo.ai',\n",
       "  'url': 'https://www.crescendo.ai/news/latest-ai-news-and-updates',\n",
       "  'content': '### HII and C3.ai Form Strategic AI Partnership for U.S. Navy\\n\\nDate: July 3, 2025  \\nSummary: Defense contractor HII and enterprise AI firm C3.ai have announced a strategic partnership to support U.S. Navy shipbuilding. The collaboration will apply AI to design optimization, logistics, and predictive maintenance. It aligns with the Pentagonâ\\x80\\x99s goal of accelerating AI adoption across military operations. Both companies will co-develop tools tailored for naval missions.  \\nSource: HII News [...] Date: July 6, 2025  \\nSummary: Amazon and Walmart are racing to integrate AI across logistics, pricing, and customer personalization to gain a retail edge. Amazon is investing in generative AI for supply chain automation, while Walmart is enhancing its predictive analytics and voice shopping. The competition is reshaping global retail infrastructure with AI at the core. Experts say the battle could redefine customer expectations worldwide.  \\nSource: Union Rayo [...] Date: July 7, 2025  \\nSummary: Huaweiâ\\x80\\x99s AI lab has refuted claims that its Pangu language model copied Alibabaâ\\x80\\x99s Qwen, following accusations of architectural similarities. The company emphasized its independent research and proprietary training pipeline. The controversy reflects increasing tension in Chinaâ\\x80\\x99s AI race. It also raises broader questions around originality in foundation model development.  \\nSource: Reuters\\n\\nâ\\x80\\x8d',\n",
       "  'score': 0.94289196},\n",
       " {'title': 'AI news and funding updates from the last 24 hours(03rd July 2025)',\n",
       "  'url': 'https://www.linkedin.com/pulse/ai-news-funding-updates-from-last-24-hours03rd-july-2025-anshuman-jha-ttk8c',\n",
       "  'content': 'Amsterdam-based climate tech firm Dexter Energy has secured 23 million euros in a new funding round to expand its AI-powered services.',\n",
       "  'score': 0.8775715},\n",
       " {'title': 'The State of Artificial Intelligence: July 2025 / Updated - TS2 Space',\n",
       "  'url': 'https://ts2.tech/en/the-state-of-artificial-intelligence-july-2025-updated-2025-july-7th-1200-cet/',\n",
       "  'content': 'This comprehensive analysis synthesizes the most significant AI news from July 2025, offering insights into the current landscape, emerging',\n",
       "  'score': 0.8757978},\n",
       " {'title': 'AI News July 2025: In-Depth and Concise - The AI Track',\n",
       "  'url': 'https://theaitrack.com/ai-news-july-2025-in-depth-and-concise/',\n",
       "  'content': 'AI NEWS July 2025 · UAE and WEF Launch Global Regulatory Platform (Grip) for AI Governance · Oakley Meta HSTN Smart Glasses Launch with 3K Video and AI Integratio.',\n",
       "  'score': 0.8719229},\n",
       " {'title': 'AI News Highlights from 3rd of July, 2025 - LinkedIn',\n",
       "  'url': 'https://www.linkedin.com/pulse/ai-news-highlights-from-3rd-july-2025-grok-ai-k4pqe',\n",
       "  'content': 'AI News Highlights from 3rd of July, 2025 · Sponsored by · Perplexity Launches Max Subscription Tier · OpenAI and Oracle Expand Stargate Deal to',\n",
       "  'score': 0.8652358}]"
      ]
     },
     "execution_count": 30,
     "metadata": {},
     "output_type": "execute_result"
    }
   ],
   "source": [
    "tavily.invoke('Provide me the recent AI news for july 3rd 2025')"
   ]
  },
  {
   "cell_type": "code",
   "execution_count": 31,
   "id": "8110de0e",
   "metadata": {},
   "outputs": [],
   "source": [
    "tools=[arxiv,wiki,tavily,add,divide,multiply]"
   ]
  },
  {
   "cell_type": "code",
   "execution_count": 32,
   "id": "cd0c5093",
   "metadata": {},
   "outputs": [],
   "source": [
    "from langchain_groq import ChatGroq\n",
    "llm = ChatGroq(model = 'llama-3.3-70b-versatile')\n",
    "llm_with_tools = llm.bind_tools(tools)"
   ]
  },
  {
   "cell_type": "code",
   "execution_count": 33,
   "id": "cf5147bb",
   "metadata": {},
   "outputs": [
    {
     "data": {
      "text/plain": [
       "AIMessage(content=\"There have been several recent developments in the field of Artificial Intelligence (AI). Here are some of the most notable ones:\\n\\n1. **ChatGPT and Large Language Models**: OpenAI's ChatGPT has been making waves in the AI community with its ability to generate human-like text and converse with users. Other companies like Google and Microsoft are also working on similar large language models.\\n2. **Google's Bard AI**: Google has recently launched its own AI chatbot called Bard, which is designed to provide more accurate and informative responses than traditional chatbots.\\n3. **Microsoft's AI-powered Bing**: Microsoft has integrated AI into its Bing search engine, allowing users to ask questions and receive more detailed and personalized answers.\\n4. **AI-generated Art and Music**: AI algorithms have been used to generate art, music, and even entire albums. This has raised questions about the role of human creativity in the age of AI.\\n5. **AI-powered Robotics**: Companies like Boston Dynamics and NVIDIA are working on AI-powered robots that can perform complex tasks like walking, running, and even doing backflips.\\n6. **AI for Healthcare**: AI is being used to analyze medical images, diagnose diseases, and develop personalized treatment plans. Companies like IBM and Google are working on AI-powered healthcare solutions.\\n7. **AI Ethics and Regulation**: As AI becomes more pervasive, there is a growing need for ethics and regulation to ensure that AI systems are transparent, fair, and accountable. Governments and organizations are working on developing guidelines and standards for AI development and deployment.\\n8. **AI-powered Self-Driving Cars**: Companies like Waymo and Tesla are working on AI-powered self-driving cars that can navigate complex roads and traffic scenarios.\\n9. **AI for Climate Change**: AI is being used to analyze climate data, predict weather patterns, and develop strategies for mitigating the effects of climate change.\\n10. **AI-powered Education**: AI is being used to develop personalized learning platforms, adaptive assessments, and intelligent tutoring systems that can help students learn more effectively.\\n\\nThese are just a few examples of the many exciting developments in the field of AI. As AI continues to evolve and improve, we can expect to see even more innovative applications and solutions in the future.\\n\\nSources:\\n\\n* The New York Times\\n* MIT Technology Review\\n* Wired\\n* Forbes\\n* CNN\\n* BBC News\\n\\nNote: The information provided is based on my knowledge cutoff date of December 2023, and may not reflect the very latest developments in the field of AI.\", additional_kwargs={}, response_metadata={'token_usage': {'completion_tokens': 508, 'prompt_tokens': 41, 'total_tokens': 549, 'completion_time': 1.847272727, 'prompt_time': 0.002076128, 'queue_time': 0.053083502000000005, 'total_time': 1.8493488550000001}, 'model_name': 'llama-3.3-70b-versatile', 'system_fingerprint': 'fp_3f3b593e33', 'finish_reason': 'stop', 'logprobs': None}, id='run--86446a46-5c53-4580-a661-9138e4455e3e-0', usage_metadata={'input_tokens': 41, 'output_tokens': 508, 'total_tokens': 549})"
      ]
     },
     "execution_count": 33,
     "metadata": {},
     "output_type": "execute_result"
    }
   ],
   "source": [
    "llm.invoke(\"What is the recent AI news\")"
   ]
  },
  {
   "cell_type": "code",
   "execution_count": 34,
   "id": "4afbd305",
   "metadata": {},
   "outputs": [
    {
     "data": {
      "text/plain": [
       "AIMessage(content='', additional_kwargs={'tool_calls': [{'id': '5a8qt7h7n', 'function': {'arguments': '{\"query\":\"Recent AI News\"}', 'name': 'tavily_search_results_json'}, 'type': 'function'}]}, response_metadata={'token_usage': {'completion_tokens': 20, 'prompt_tokens': 744, 'total_tokens': 764, 'completion_time': 0.072727273, 'prompt_time': 0.257679169, 'queue_time': 0.053008318, 'total_time': 0.330406442}, 'model_name': 'llama-3.3-70b-versatile', 'system_fingerprint': 'fp_6507bcfb6f', 'finish_reason': 'tool_calls', 'logprobs': None}, id='run--d1317ba7-0bf2-474f-a491-1eeefdad6b80-0', tool_calls=[{'name': 'tavily_search_results_json', 'args': {'query': 'Recent AI News'}, 'id': '5a8qt7h7n', 'type': 'tool_call'}], usage_metadata={'input_tokens': 744, 'output_tokens': 20, 'total_tokens': 764})"
      ]
     },
     "execution_count": 34,
     "metadata": {},
     "output_type": "execute_result"
    }
   ],
   "source": [
    "from pprint import pprint\n",
    "from langchain_core.messages import AIMessage, HumanMessage\n",
    "llm_with_tools.invoke([HumanMessage(content=f\"What is the recent AI News\")])"
   ]
  },
  {
   "cell_type": "code",
   "execution_count": 35,
   "id": "673fcf4e",
   "metadata": {},
   "outputs": [
    {
     "data": {
      "text/plain": [
       "[{'name': 'tavily_search_results_json',\n",
       "  'args': {'query': 'recent AI news'},\n",
       "  'id': '30bqp2wd9',\n",
       "  'type': 'tool_call'}]"
      ]
     },
     "execution_count": 35,
     "metadata": {},
     "output_type": "execute_result"
    }
   ],
   "source": [
    "llm_with_tools.invoke([HumanMessage(content=f\"What is the recent AI News\")]).tool_calls"
   ]
  },
  {
   "cell_type": "code",
   "execution_count": 36,
   "id": "a52b8894",
   "metadata": {},
   "outputs": [],
   "source": [
    "from typing_extensions import TypedDict\n",
    "from langchain_core.messages import AnyMessage\n",
    "from typing import Annotated\n",
    "from langgraph.graph.message import add_messages\n",
    "\n",
    "class State(TypedDict):\n",
    "    messages : Annotated[list[AnyMessage], add_messages]"
   ]
  },
  {
   "cell_type": "code",
   "execution_count": 37,
   "id": "49efd206",
   "metadata": {},
   "outputs": [
    {
     "data": {
      "image/png": "[encoded data removed]",
      "text/plain": [
       "<IPython.core.display.Image object>"
      ]
     },
     "metadata": {},
     "output_type": "display_data"
    }
   ],
   "source": [
    "from IPython.display import Image, display\n",
    "from langgraph.graph import StateGraph,END,START\n",
    "from langgraph.prebuilt import tools_condition, ToolNode\n",
    "\n",
    "def tool_calling_llm(state:State):\n",
    "    return {'messages':[llm_with_tools.invoke(state['messages'])]}\n",
    "\n",
    "builder = StateGraph(State)\n",
    "builder.add_node('tool_calling_llm', tool_calling_llm)\n",
    "builder.add_node('tools',ToolNode(tools))\n",
    "\n",
    "builder.add_edge(START,'tool_calling_llm')\n",
    "builder.add_conditional_edges('tool_calling_llm', tools_condition)\n",
    "builder.add_edge('tools','tool_calling_llm')\n",
    "\n",
    "graphs = builder.compile()\n",
    "display(Image(graphs.get_graph().draw_mermaid_png()))"
   ]
  },
  {
   "cell_type": "code",
   "execution_count": 38,
   "id": "36bad427",
   "metadata": {},
   "outputs": [
    {
     "name": "stdout",
     "output_type": "stream",
     "text": [
      "================================\u001b[1m Human Message \u001b[0m=================================\n",
      "\n",
      "Provide me the top 10 recent AI news for june 3rd 2025,add 5 plus 5 and then multiply by 10\n",
      "==================================\u001b[1m Ai Message \u001b[0m==================================\n",
      "Tool Calls:\n",
      "  tavily_search_results_json (brbr9pp51)\n",
      " Call ID: brbr9pp51\n",
      "  Args:\n",
      "    query: top 10 recent AI news june 3rd 2025\n",
      "  add (erbf2ptj8)\n",
      " Call ID: erbf2ptj8\n",
      "  Args:\n",
      "    a: 5\n",
      "    b: 5\n",
      "  multiply (8mjcgqtm6)\n",
      " Call ID: 8mjcgqtm6\n",
      "  Args:\n",
      "    a: 10\n",
      "    b: 10\n",
      "=================================\u001b[1m Tool Message \u001b[0m=================================\n",
      "Name: tavily_search_results_json\n",
      "\n",
      "[{\"title\": \"AI News Highlights from 3rd of June, 2025 - LinkedIn\", \"url\": \"https://www.linkedin.com/pulse/ai-news-highlights-from-3rd-june-2025-grok-ai-7nnpe\", \"content\": \"Character.AI has expanded beyond chatbots with two new tools: Scenes for storytelling and AvatarFX for converting images into animated avatars.\", \"score\": 0.8872928}, {\"title\": \"Global AI Regulations Roundup: Top Stories of June 2025 - Securiti\", \"url\": \"https://securiti.ai/ai-roundup/june-2025/\", \"content\": \"In June, the global AI legal and regulatory landscape was abuzz with activity, but the pace varied significantly across countries. Vietnam took the lead in enacting the world’s first law exclusively focused on the digital technology industry. Hong Kong’s PCDP followed closely, aiming to demystify compliance requirements by launching a new website and publishing guidelines to make compliance more “digestible” for the layman. South Korea, too, was an active participant by passing an amendment [...] On June 3, 2025, a group of 260 US lawmakers released a letter opposing the AI provisions in the One Big Beautiful Bill Act, which passed the House on May 22, 2025. The letter criticizes the Act’s proposal to prohibit state-level enforcement of AI regulations for ten years, arguing that it would restrict policymakers’ ability to address emerging AI challenges and leave consumers unprotected. Lawmakers also expressed concern that the Act could undermine existing AI-related laws aimed at [...] Covering you everywhere with 1000+ integrations across data systems.\\n\\nGCP\\nAWS\\nDatabricks\\nSnowflake\\nAzure\\nRegulation\\n\\nAutomate compliance with global privacy regulations.\\n\\nCDMC\\nEU AI Act\\nOWASP\\nNIST AI RMF\\nEuropean Union GDPR\\nCalifornia's CPRA\\nBrazil's LGPD\\nCanada's PIPEDA\\nChina's PIPL\\nRole\\n\\nIdentify data risk and enable protection & control.\\n\\nData+AI Builders\\nData Security\\nData Privacy\\nData Governance\\nMarketing\\n\\n# Global AI Regulations Roundup: Top Stories of June 2025\\n\\nYasir Nawaz\", \"score\": 0.8868231}, {\"title\": \"Most Notable AI Developments: June 2025 | by Eva Lau - Medium\", \"url\": \"https://medium.com/@writerdotcom/most-notable-ai-developments-june-2025-dc7fa7263e0f\", \"content\": \"# Corporate AI Transformations Shake Up Workforces\\n\\nJune also saw Microsoft announce layoffs of over 9,000 employees, tied directly to its strategic pivot toward AI-driven workflows. This highlights a growing trend: AI automating routine tasks and reshaping workforce demands. While some jobs disappear, new roles focusing on AI management and development are emerging.\\n\\n# AI Tools Powering Creativity and Marketing [...] Creatives got a boost this June with new AI platforms like Gemini 2.5 and Project Astra launching to speed up marketing campaigns and content creation. These tools demonstrate how AI is enhancing — not replacing — human creativity by taking over repetitive tasks and suggesting innovative ideas.\\n\\n# AI Meets Esports and Robotics [...] June 2025 illustrated AI’s accelerating impact across sectors — healthcare, legislation, business, creativity, and sports. The rapid pace invites excitement but also calls for careful ethical considerations and policy frameworks to balance innovation with societal needs.\", \"score\": 0.8830044}, {\"title\": \"Relevant AI news in June 2025 - by Jeff Wang\", \"url\": \"https://jeffwang.substack.com/p/relevant-ai-news-in-june-2025\", \"content\": \"Innovation Corps. This also included the CTO of Meta and Palantir. OpenAI was also hit with a trademark dispute from iyO, which moved OpenAI to take down their io materials. Finally, Microsoft and OpenAI are still in negotiations on how to reduce their dependencies on each other and allow OpenAI to convert to a company that can go IPO. [...] Nvidia is building a 10k GPU cluster in Germany, putting it in competition with other cloud providers. It always had its own cloud but not at this scale yet. On the other hand, the cloud providers are also building with their own GPUs too, breaking off dependency on Nvidia. There are new build outs of Amazon’s Trainium and Google’s TPUs. As with the rest of the AI industry, everyone is starting to overlap services more and more. [...] Midjourney released its first Video model, only one week after being sued by Disney and Universal for allowing its AI generated images on their IP. Video is getting amazing, with Google’s VEO 3 as the front runner (as it includes audio too). In other image/video generation projects, Topaz Labs released Bloom which can actually “enhance” an image by 8x without losing details. ManusAI surprisingly shifted from machine use to Video generation. Luma AI partnered with Modem to build a Dream recorder\", \"score\": 0.8732259}, {\"title\": \"Five AI Breakthroughs Shaping the Future: June 2025 AI News\", \"url\": \"https://www.launchconsulting.com/posts/five-ai-breakthroughs-shaping-the-future-june-2025-ai-news\", \"content\": \"June 2025 didnât just advance AIâit turbocharged it. GPT-5 promises an intelligence leap; Metaâs investment accelerates infrastructure; the FDAâs INTACT brings AI into regulated domains; workplace use has gone mainstream; and cities are becoming living labs for real-world deployment.\\n\\nIf you want to lead in this moment, donât just watch. Build. Integrate. Prepare. [...] June 2025 didnât just advance AIâit turbocharged it. GPT-5 promises an intelligence leap; Metaâs investment accelerates infrastructure; the FDAâs INTACT brings AI into regulated domains; workplace use has gone mainstream; and cities are becoming living labs for real-world deployment.\\n\\nIf you want to lead in this moment, donât just watch. Build. Integrate. Prepare. [...] .svg)\\n\\n.svg)\\n\\n# Five AI Breakthroughs Shaping the Future: June 2025 AI News\\n\\nThe AI ecosystem is acceleratingâand if June 2025 was any indication, thereâs no hitting the brakes. Between major model releases, blockbuster investments, government innovation, and AI scaling across public services and workplaces, this month reaffirmed that AI isnât just evolvingâitâs redefining whatâs possible. Here are the five pivotal developments youâand every leaderâneed to know.\", \"score\": 0.8668671}]\n",
      "=================================\u001b[1m Tool Message \u001b[0m=================================\n",
      "Name: add\n",
      "\n",
      "10\n",
      "=================================\u001b[1m Tool Message \u001b[0m=================================\n",
      "Name: multiply\n",
      "\n",
      "100\n",
      "==================================\u001b[1m Ai Message \u001b[0m==================================\n",
      "\n",
      "Here are the top 10 recent AI news for June 3rd, 2025:\n",
      "1. Character.AI has expanded beyond chatbots with two new tools: Scenes for storytelling and AvatarFX for converting images into animated avatars.\n",
      "2. Vietnam took the lead in enacting the world’s first law exclusively focused on the digital technology industry.\n",
      "3. Hong Kong’s PCDP followed closely, aiming to demystify compliance requirements by launching a new website and publishing guidelines to make compliance more “digestible” for the layman.\n",
      "4. South Korea, too, was an active participant by passing an amendment to its Personal Information Protection Act.\n",
      "5. On June 3, 2025, a group of 260 US lawmakers released a letter opposing the AI provisions in the One Big Beautiful Bill Act.\n",
      "6. Microsoft announce layoffs of over 9,000 employees, tied directly to its strategic pivot toward AI-driven workflows.\n",
      "7. New AI platforms like Gemini 2.5 and Project Astra launching to speed up marketing campaigns and content creation.\n",
      "8. Nvidia is building a 10k GPU cluster in Germany, putting it in competition with other cloud providers.\n",
      "9. Midjourney released its first Video model, only one week after being sued by Disney and Universal for allowing its AI generated images on their IP.\n",
      "10. Topaz Labs released Bloom which can actually “enhance” an image by 8x without losing details.\n",
      "\n",
      "The result of adding 5 plus 5 is 10, and then multiplying by 10 is 100.\n"
     ]
    }
   ],
   "source": [
    "messages=graphs.invoke({\"messages\":HumanMessage(content=\"Provide me the top 10 recent AI news for june 3rd 2025,add 5 plus 5 and then multiply by 10\")})\n",
    "for m in messages['messages']:\n",
    "    m.pretty_print()"
   ]
  },
  {
   "cell_type": "code",
   "execution_count": null,
   "id": "2c46a85f",
   "metadata": {},
   "outputs": [
    {
     "data": {
      "text/plain": [
       "<langgraph.graph.state.StateGraph at 0x2e2f742fcb0>"
      ]
     },
     "execution_count": 39,
     "metadata": {},
     "output_type": "execute_result"
    }
   ],
   "source": [
    "### Entire Chatbot With LangGraph\n",
    "from IPython.display import Image, display\n",
    "from langgraph.graph import StateGraph, START, END\n",
    "from langgraph.prebuilt import ToolNode\n",
    "from langgraph.prebuilt import tools_condition\n",
    "\n",
    "### Node definition\n",
    "def tool_calling_llm(state:State):\n",
    "    return {\"messages\":[llm_with_tools.invoke(state[\"messages\"])]}\n",
    "\n",
    "# Build graph\n",
    "builder = StateGraph(State)\n",
    "builder.add_node(\"tool_calling_llm\", tool_calling_llm)\n",
    "builder.add_node(\"tools\", ToolNode(tools))\n",
    "\n",
    "builder.add_edge(START, \"tool_calling_llm\")\n",
    "builder.add_conditional_edges(\n",
    "    \"tool_calling_llm\",\n",
    "    tools_condition,\n",
    ")\n",
    "builder.add_edge(\"tools\",\"tool_calling_llm\")\n",
    "\n",
    "\n"
   ]
  },
  {
   "cell_type": "code",
   "execution_count": 40,
   "id": "ea6f9723",
   "metadata": {},
   "outputs": [
    {
     "data": {
      "image/png": "[encoded data removed]",
      "text/plain": [
       "<IPython.core.display.Image object>"
      ]
     },
     "metadata": {},
     "output_type": "display_data"
    }
   ],
   "source": [
    "from langgraph.checkpoint.memory import MemorySaver\n",
    "memory = MemorySaver()\n",
    "graph_memory  = builder.compile(checkpointer=memory)\n",
    "display(Image(graph_memory.get_graph().draw_mermaid_png()))"
   ]
  },
  {
   "cell_type": "code",
   "execution_count": 41,
   "id": "ae5d81ae",
   "metadata": {},
   "outputs": [
    {
     "name": "stdout",
     "output_type": "stream",
     "text": [
      "================================\u001b[1m Human Message \u001b[0m=================================\n",
      "\n",
      "Add 12 and 13.\n",
      "==================================\u001b[1m Ai Message \u001b[0m==================================\n",
      "Tool Calls:\n",
      "  add (25k0n0z4j)\n",
      " Call ID: 25k0n0z4j\n",
      "  Args:\n",
      "    a: 12\n",
      "    b: 13\n",
      "=================================\u001b[1m Tool Message \u001b[0m=================================\n",
      "Name: add\n",
      "\n",
      "25\n",
      "==================================\u001b[1m Ai Message \u001b[0m==================================\n",
      "\n",
      "The result of adding 12 and 13 is 25.\n"
     ]
    }
   ],
   "source": [
    "config={\"configurable\":{\"thread_id\":\"1\"}}\n",
    "# Specify an input\n",
    "messages = [HumanMessage(content=\"Add 12 and 13.\")]\n",
    "messages=graph_memory.invoke({\"messages\":messages},config=config)\n",
    "for m in messages['messages']:\n",
    "    m.pretty_print()"
   ]
  },
  {
   "cell_type": "code",
   "execution_count": 42,
   "id": "5d899061",
   "metadata": {},
   "outputs": [
    {
     "name": "stdout",
     "output_type": "stream",
     "text": [
      "================================\u001b[1m Human Message \u001b[0m=================================\n",
      "\n",
      "Add 12 and 13.\n",
      "==================================\u001b[1m Ai Message \u001b[0m==================================\n",
      "Tool Calls:\n",
      "  add (25k0n0z4j)\n",
      " Call ID: 25k0n0z4j\n",
      "  Args:\n",
      "    a: 12\n",
      "    b: 13\n",
      "=================================\u001b[1m Tool Message \u001b[0m=================================\n",
      "Name: add\n",
      "\n",
      "25\n",
      "==================================\u001b[1m Ai Message \u001b[0m==================================\n",
      "\n",
      "The result of adding 12 and 13 is 25.\n",
      "================================\u001b[1m Human Message \u001b[0m=================================\n",
      "\n",
      "Take the previous result and add 25 to it\n",
      "==================================\u001b[1m Ai Message \u001b[0m==================================\n",
      "Tool Calls:\n",
      "  add (ptzh5syf3)\n",
      " Call ID: ptzh5syf3\n",
      "  Args:\n",
      "    a: 25\n",
      "    b: 25\n",
      "=================================\u001b[1m Tool Message \u001b[0m=================================\n",
      "Name: add\n",
      "\n",
      "50\n",
      "==================================\u001b[1m Ai Message \u001b[0m==================================\n",
      "\n",
      "The result of adding 25 to the previous result (25) is 50.\n"
     ]
    }
   ],
   "source": [
    "messages = [HumanMessage(content=\"Take the previous result and add 25 to it\")]\n",
    "messages=graph_memory.invoke({\"messages\":messages},config=config)\n",
    "for m in messages['messages']:\n",
    "    m.pretty_print()"
   ]
  },
  {
   "cell_type": "code",
   "execution_count": 43,
   "id": "6109eadc",
   "metadata": {},
   "outputs": [
    {
     "name": "stdout",
     "output_type": "stream",
     "text": [
      "================================\u001b[1m Human Message \u001b[0m=================================\n",
      "\n",
      "Add 12 and 13.\n",
      "==================================\u001b[1m Ai Message \u001b[0m==================================\n",
      "Tool Calls:\n",
      "  add (25k0n0z4j)\n",
      " Call ID: 25k0n0z4j\n",
      "  Args:\n",
      "    a: 12\n",
      "    b: 13\n",
      "=================================\u001b[1m Tool Message \u001b[0m=================================\n",
      "Name: add\n",
      "\n",
      "25\n",
      "==================================\u001b[1m Ai Message \u001b[0m==================================\n",
      "\n",
      "The result of adding 12 and 13 is 25.\n",
      "================================\u001b[1m Human Message \u001b[0m=================================\n",
      "\n",
      "Take the previous result and add 25 to it\n",
      "==================================\u001b[1m Ai Message \u001b[0m==================================\n",
      "Tool Calls:\n",
      "  add (ptzh5syf3)\n",
      " Call ID: ptzh5syf3\n",
      "  Args:\n",
      "    a: 25\n",
      "    b: 25\n",
      "=================================\u001b[1m Tool Message \u001b[0m=================================\n",
      "Name: add\n",
      "\n",
      "50\n",
      "==================================\u001b[1m Ai Message \u001b[0m==================================\n",
      "\n",
      "The result of adding 25 to the previous result (25) is 50.\n",
      "================================\u001b[1m Human Message \u001b[0m=================================\n",
      "\n",
      "then multiplty previous number by 2\n",
      "==================================\u001b[1m Ai Message \u001b[0m==================================\n",
      "Tool Calls:\n",
      "  multiply (xqaw2aggy)\n",
      " Call ID: xqaw2aggy\n",
      "  Args:\n",
      "    a: 50\n",
      "    b: 2\n",
      "=================================\u001b[1m Tool Message \u001b[0m=================================\n",
      "Name: multiply\n",
      "\n",
      "100\n",
      "==================================\u001b[1m Ai Message \u001b[0m==================================\n",
      "\n",
      "The result of multiplying the previous number (50) by 2 is 100.\n"
     ]
    }
   ],
   "source": [
    "messages = [HumanMessage(content=\"then multiplty previous number by 2\")]\n",
    "messages=graph_memory.invoke({\"messages\":messages},config=config)\n",
    "for m in messages['messages']:\n",
    "    m.pretty_print()"
   ]
  },
  {
   "cell_type": "code",
   "execution_count": 44,
   "id": "b0a6b8b0",
   "metadata": {},
   "outputs": [
    {
     "name": "stdout",
     "output_type": "stream",
     "text": [
      "================================\u001b[1m Human Message \u001b[0m=================================\n",
      "\n",
      "Add 12 and 13.\n",
      "==================================\u001b[1m Ai Message \u001b[0m==================================\n",
      "Tool Calls:\n",
      "  add (25k0n0z4j)\n",
      " Call ID: 25k0n0z4j\n",
      "  Args:\n",
      "    a: 12\n",
      "    b: 13\n",
      "=================================\u001b[1m Tool Message \u001b[0m=================================\n",
      "Name: add\n",
      "\n",
      "25\n",
      "==================================\u001b[1m Ai Message \u001b[0m==================================\n",
      "\n",
      "The result of adding 12 and 13 is 25.\n",
      "================================\u001b[1m Human Message \u001b[0m=================================\n",
      "\n",
      "Take the previous result and add 25 to it\n",
      "==================================\u001b[1m Ai Message \u001b[0m==================================\n",
      "Tool Calls:\n",
      "  add (ptzh5syf3)\n",
      " Call ID: ptzh5syf3\n",
      "  Args:\n",
      "    a: 25\n",
      "    b: 25\n",
      "=================================\u001b[1m Tool Message \u001b[0m=================================\n",
      "Name: add\n",
      "\n",
      "50\n",
      "==================================\u001b[1m Ai Message \u001b[0m==================================\n",
      "\n",
      "The result of adding 25 to the previous result (25) is 50.\n",
      "================================\u001b[1m Human Message \u001b[0m=================================\n",
      "\n",
      "then multiplty previous number by 2\n",
      "==================================\u001b[1m Ai Message \u001b[0m==================================\n",
      "Tool Calls:\n",
      "  multiply (xqaw2aggy)\n",
      " Call ID: xqaw2aggy\n",
      "  Args:\n",
      "    a: 50\n",
      "    b: 2\n",
      "=================================\u001b[1m Tool Message \u001b[0m=================================\n",
      "Name: multiply\n",
      "\n",
      "100\n",
      "==================================\u001b[1m Ai Message \u001b[0m==================================\n",
      "\n",
      "The result of multiplying the previous number (50) by 2 is 100.\n",
      "================================\u001b[1m Human Message \u001b[0m=================================\n",
      "\n",
      "then divide previous number by 2\n",
      "==================================\u001b[1m Ai Message \u001b[0m==================================\n",
      "Tool Calls:\n",
      "  divide (rczybnw66)\n",
      " Call ID: rczybnw66\n",
      "  Args:\n",
      "    a: 100\n",
      "    b: 2\n",
      "=================================\u001b[1m Tool Message \u001b[0m=================================\n",
      "Name: divide\n",
      "\n",
      "50.0\n",
      "==================================\u001b[1m Ai Message \u001b[0m==================================\n",
      "\n",
      "The result of dividing the previous number (100) by 2 is 50.0.\n"
     ]
    }
   ],
   "source": [
    "messages = [HumanMessage(content=\"then divide previous number by 2\")]\n",
    "messages=graph_memory.invoke({\"messages\":messages},config=config)\n",
    "for m in messages['messages']:\n",
    "    m.pretty_print()"
   ]
  },
  {
   "cell_type": "code",
   "execution_count": null,
   "id": "c6fbd3fd",
   "metadata": {},
   "outputs": [],
   "source": []
  }
 ],
 "metadata": {
  "kernelspec": {
   "display_name": "env",
   "language": "python",
   "name": "python3"
  },
  "language_info": {
   "codemirror_mode": {
    "name": "ipython",
    "version": 3
   },
   "file_extension": ".py",
   "mimetype": "text/x-python",
   "name": "python",
   "nbconvert_exporter": "python",
   "pygments_lexer": "ipython3",
   "version": "3.12.4"
  }
 },
 "nbformat": 4,
 "nbformat_minor": 5
}
